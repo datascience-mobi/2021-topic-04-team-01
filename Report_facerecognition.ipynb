{
 "cells": [
  {
   "cell_type": "markdown",
   "metadata": {},
   "source": [
    "# Implementation of K-nearest neighbors (KNN) algorithm for human face recognition\n",
    "\n",
    "\n",
    "\n",
    "\n",
    "## Authors: Maria Chiritescu, Georgi Georgiev, Gabriela Marinova and Deniz Akinbosoye\n",
    "\n",
    "## July 2021\n",
    "\n",
    "\n",
    "\n",
    "\n",
    "## Abstract\n",
    "\n",
    "(...)\n",
    "\n",
    "\n",
    "## Table of contents\n",
    "\n",
    "1. Introduction \n",
    "2. Our Dataset\n",
    "3. Principle component analysis (PCA) algorithm\n",
    "4. K-nearest neighbors (KNN) algorithm\n",
    "5. Further applications\n",
    "6. Results\n",
    "7. Discussion\n",
    "8. References\n",
    "\n",
    "\n",
    "  \n",
    "\n",
    "\n",
    "\n"
   ]
  },
  {
   "cell_type": "code",
   "execution_count": null,
   "metadata": {},
   "outputs": [],
   "source": []
  },
  {
   "cell_type": "code",
   "execution_count": null,
   "metadata": {},
   "outputs": [],
   "source": []
  }
 ],
 "metadata": {
  "kernelspec": {
   "display_name": "Python 3",
   "language": "python",
   "name": "python3"
  },
  "language_info": {
   "codemirror_mode": {
    "name": "ipython",
    "version": 3
   },
   "file_extension": ".py",
   "mimetype": "text/x-python",
   "name": "python",
   "nbconvert_exporter": "python",
   "pygments_lexer": "ipython3",
   "version": "3.8.5"
  }
 },
 "nbformat": 4,
 "nbformat_minor": 4
}
